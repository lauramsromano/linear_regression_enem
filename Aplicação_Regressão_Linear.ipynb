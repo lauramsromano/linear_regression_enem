{
  "nbformat": 4,
  "nbformat_minor": 0,
  "metadata": {
    "colab": {
      "provenance": [],
      "authorship_tag": "ABX9TyOdJLI61RqmOwlG1HDoEQWG",
      "include_colab_link": true
    },
    "kernelspec": {
      "name": "python3",
      "display_name": "Python 3"
    },
    "language_info": {
      "name": "python"
    }
  },
  "cells": [
    {
      "cell_type": "markdown",
      "metadata": {
        "id": "view-in-github",
        "colab_type": "text"
      },
      "source": [
        "<a href=\"https://colab.research.google.com/github/lauramsromano/linear_regression_enem/blob/main/Aplica%C3%A7%C3%A3o_Regress%C3%A3o_Linear.ipynb\" target=\"_parent\"><img src=\"https://colab.research.google.com/assets/colab-badge.svg\" alt=\"Open In Colab\"/></a>"
      ]
    },
    {
      "cell_type": "markdown",
      "source": [
        "# Regressão Linear"
      ],
      "metadata": {
        "id": "meUBXfmUy51n"
      }
    },
    {
      "cell_type": "markdown",
      "source": [
        "> Feito por: Laura Maria de Souza Romano\n",
        "\n",
        "📧 e-mail - laura.sromano@hotmail.com\n",
        "🔗\n",
        "[linkedin](https://www.linkedin.com/in/laura-maria-de-souza-romano/)\n",
        "\n",
        "---"
      ],
      "metadata": {
        "id": "EnJSVymUZDfP"
      }
    },
    {
      "cell_type": "markdown",
      "source": [
        "O objetivo é utilizar os dados disponíveis para criar um modelo de regressão linear que estabeleça uma relação entre as variáveis preditoras, que podem ser características dos estudantes ou outros atributos relevantes presentes na base de dados do ENEM, e a variável de interesse, que é a nota de matemática.\n",
        "\n",
        "A regressão linear é uma técnica estatística que busca traçar a melhor linha reta que representa a relação entre as variáveis, permitindo fazer previsões sobre os valores de uma variável com base nos valores das outras.\n",
        "\n",
        "Para alcançar esse objetivo, será necessário realizar a preparação dos dados, tratando eventuais valores faltantes ou outliers, selecionando as variáveis mais relevantes para a previsão e separando os dados em conjuntos de treinamento e teste.\n",
        "\n",
        "Em seguida, construiremos o modelo de regressão linear e o treinaremos usando o conjunto de treinamento, ajustando os coeficientes da reta para melhor se ajustarem aos dados disponíveis.\n",
        "\n",
        "Uma vez que o modelo estiver treinado, iremos avaliar seu desempenho utilizando métricas apropriadas, como o erro médio quadrático ou o coeficiente de determinação (R²), para verificar quão bem ele é capaz de prever as notas de matemática com base nos dados de entrada.\n",
        "\n",
        "Ao final, com as conclusões sobre o desempenho do modelo, poderemos utilizá-lo para fazer previsões precisas sobre as notas de matemática de novos estudantes com base em seus dados cadastrados no ENEM, fornecendo informações valiosas para análise e tomada de decisões no contexto educacional."
      ],
      "metadata": {
        "id": "i0UgoGJfzuR6"
      }
    },
    {
      "cell_type": "markdown",
      "source": [
        "> Base - https://www.gov.br/inep/pt-br/acesso-a-informacao/dados-abertos/microdados/enem\n"
      ],
      "metadata": {
        "id": "DaT-r7Laypz7"
      }
    },
    {
      "cell_type": "code",
      "source": [
        "# bibliotecas padrões:\n",
        "import pandas as pd\n",
        "import numpy as np\n",
        "import matplotlib.pyplot as plt\n",
        "import seaborn as sns\n",
        "\n",
        "# regressão:\n",
        "from sklearn.linear_model import LinearRegression # regressão linear\n",
        "from sklearn.linear_model import Lasso # regressão Lasso\n",
        "from sklearn.model_selection import train_test_split  # divisão treino teste\n",
        "from sklearn.metrics import r2_score, mean_squared_error, mean_absolute_error #validação do modelo (R², RMSE e MAE)\n",
        "\n",
        "# pipeline:\n",
        "from sklearn.pipeline import Pipeline # gerando pipeline\n",
        "from sklearn.pipeline import make_pipeline # extraindo infos da pipeline\n",
        "from sklearn.compose import ColumnTransformer # agrupação de métodos para pipeline\n",
        "\n",
        "# processamento de variáveis numéricas:\n",
        "from sklearn.preprocessing import RobustScaler # ajuste da escala das features\n",
        "from sklearn.preprocessing import power_transform # normalizando target\n",
        "\n",
        "# processamento de variáveis nominais:\n",
        "!pip install category_encoders\n",
        "from category_encoders import CountEncoder # transformação por frequencia\n",
        "\n",
        "# testando multicolinearidade:\n",
        "import statsmodels.api as sm\n",
        "from statsmodels.stats.outliers_influence import variance_inflation_factor # verificação de multicolinearidade\n",
        "\n",
        "# testando normalidade (resíduos e variáveis):\n",
        "import scipy.stats as stats\n",
        "from scipy.stats import shapiro # teste de normalidade\n",
        "\n",
        "# warnings:\n",
        "import warnings\n",
        "warnings.filterwarnings(\"ignore\")"
      ],
      "metadata": {
        "id": "ftlLXnpYz7nv",
        "colab": {
          "base_uri": "https://localhost:8080/"
        },
        "outputId": "814209e6-5490-416d-aa01-f5aef8438df5"
      },
      "execution_count": null,
      "outputs": [
        {
          "output_type": "stream",
          "name": "stdout",
          "text": [
            "Looking in indexes: https://pypi.org/simple, https://us-python.pkg.dev/colab-wheels/public/simple/\n",
            "Requirement already satisfied: category_encoders in /usr/local/lib/python3.10/dist-packages (2.6.1)\n",
            "Requirement already satisfied: numpy>=1.14.0 in /usr/local/lib/python3.10/dist-packages (from category_encoders) (1.22.4)\n",
            "Requirement already satisfied: scikit-learn>=0.20.0 in /usr/local/lib/python3.10/dist-packages (from category_encoders) (1.2.2)\n",
            "Requirement already satisfied: scipy>=1.0.0 in /usr/local/lib/python3.10/dist-packages (from category_encoders) (1.10.1)\n",
            "Requirement already satisfied: statsmodels>=0.9.0 in /usr/local/lib/python3.10/dist-packages (from category_encoders) (0.13.5)\n",
            "Requirement already satisfied: pandas>=1.0.5 in /usr/local/lib/python3.10/dist-packages (from category_encoders) (1.5.3)\n",
            "Requirement already satisfied: patsy>=0.5.1 in /usr/local/lib/python3.10/dist-packages (from category_encoders) (0.5.3)\n",
            "Requirement already satisfied: python-dateutil>=2.8.1 in /usr/local/lib/python3.10/dist-packages (from pandas>=1.0.5->category_encoders) (2.8.2)\n",
            "Requirement already satisfied: pytz>=2020.1 in /usr/local/lib/python3.10/dist-packages (from pandas>=1.0.5->category_encoders) (2022.7.1)\n",
            "Requirement already satisfied: six in /usr/local/lib/python3.10/dist-packages (from patsy>=0.5.1->category_encoders) (1.16.0)\n",
            "Requirement already satisfied: joblib>=1.1.1 in /usr/local/lib/python3.10/dist-packages (from scikit-learn>=0.20.0->category_encoders) (1.2.0)\n",
            "Requirement already satisfied: threadpoolctl>=2.0.0 in /usr/local/lib/python3.10/dist-packages (from scikit-learn>=0.20.0->category_encoders) (3.1.0)\n",
            "Requirement already satisfied: packaging>=21.3 in /usr/local/lib/python3.10/dist-packages (from statsmodels>=0.9.0->category_encoders) (23.1)\n"
          ]
        }
      ]
    },
    {
      "cell_type": "markdown",
      "source": [
        "#### Análise e tratamento da base:\n",
        "\n",
        "Neste tópico realizamos os seguintes processos:\n",
        "\n",
        "- Importação dos dados e criação da base para **tratamento e modelagem**.\n",
        "- Escolha e ajuste nas **features**.\n",
        "- **Levantementos gerais** sobres informações da base criada."
      ],
      "metadata": {
        "id": "o4uAi63g9mvB"
      }
    },
    {
      "cell_type": "code",
      "source": [
        "# leitura da base\n",
        "amostra = pd.read_csv('amostra_enem_bahia.csv')\n",
        "\n",
        "# filtra apenas alunos de escolas públicas ou privadas\n",
        "amostra = amostra[amostra.TP_ESCOLA.isin([2, 3])]\n",
        "\n",
        "# filtra alunos que não obtiveram 0 em Matemática e em Ciências da Natureza e alunos com mais de 14 anos\n",
        "amostra = amostra.query('(NU_NOTA_MT != 0) & (NU_IDADE >= 14) & (NU_NOTA_CN != 0)')"
      ],
      "metadata": {
        "id": "Sza2p7Y-0Op_"
      },
      "execution_count": null,
      "outputs": []
    },
    {
      "cell_type": "code",
      "source": [
        "# prepara a base para aplicar o modelo\n",
        "base_amostra = pd.DataFrame()\n",
        "base_amostra['dummy_sexo_feminino'] = amostra.TP_SEXO.map({'F': 1, 'M': 0})\n",
        "base_amostra['municipio_residencia'] = amostra.NO_MUNICIPIO_RESIDENCIA\n",
        "base_amostra['idade'] = amostra.NU_IDADE\n",
        "base_amostra['cor_raca'] = amostra['TP_COR_RACA']\n",
        "base_amostra['escola_publica'] = amostra['TP_ESCOLA'].map({3: 0, 2: 1})\n",
        "base_amostra['nota_matematica'] = amostra['NU_NOTA_MT']\n",
        "base_amostra['nota_ciencia'] = amostra['NU_NOTA_CN']\n",
        "base_amostra['escolaridade_pai'] = amostra.Q001.map({'A': 0, 'B': 0, 'C': 0, 'D': 0, 'E': 1, 'F': 1, 'G': 1, 'H': 0})\n",
        "base_amostra['escolaridade_mae'] = amostra.Q002.map({'A': 0, 'B': 0, 'C': 0, 'D': 0, 'E': 1, 'F': 1, 'G': 1, 'H': 0})\n",
        "base_amostra['tamanho_familia'] = amostra.Q005\n",
        "base_amostra['internet'] = amostra.Q025.map({'A': 0, 'B': 1})\n",
        "base_amostra['computador'] = amostra.Q024.map({'A': 0, 'B': 1, 'C': 1, 'D': 1, 'E': 1})\n",
        "base_amostra.dropna(inplace = True)\n",
        "values_to_map = {value: index for index, value in enumerate(np.sort(amostra.Q006.astype(str).unique()), start=1)}\n",
        "base_amostra['renda_familiar'] = amostra.Q006.astype(str).map(values_to_map)"
      ],
      "metadata": {
        "id": "abhyKY5c2mW7"
      },
      "execution_count": null,
      "outputs": []
    },
    {
      "cell_type": "code",
      "source": [
        "base_amostra.head()"
      ],
      "metadata": {
        "colab": {
          "base_uri": "https://localhost:8080/",
          "height": 270
        },
        "id": "pPYtHmr36GOB",
        "outputId": "ef43f911-ce55-4bd5-da8a-05f798bbad76"
      },
      "execution_count": null,
      "outputs": [
        {
          "output_type": "execute_result",
          "data": {
            "text/plain": [
              "    dummy_sexo_feminino    municipio_residencia  idade  cor_raca  \\\n",
              "3                     0        Lauro de Freitas   17.0         2   \n",
              "7                     0  São Sebastião do Passé   19.0         3   \n",
              "22                    1                Salvador   18.0         3   \n",
              "28                    0                Serrinha   19.0         2   \n",
              "43                    0              Itapetinga   17.0         2   \n",
              "\n",
              "    escola_publica  nota_matematica  nota_ciencia  escolaridade_pai  \\\n",
              "3                1            704.5         567.3                 1   \n",
              "7                1            392.5         361.2                 0   \n",
              "22               1            425.2         523.6                 1   \n",
              "28               1            386.4         525.0                 0   \n",
              "43               1            441.9         378.6                 0   \n",
              "\n",
              "    escolaridade_mae  tamanho_familia  internet  computador  renda_familiar  \n",
              "3                  0                2         1           0               2  \n",
              "7                  0                5         1           0               2  \n",
              "22                 0                6         1           0               3  \n",
              "28                 1                3         1           1               2  \n",
              "43                 0                3         0           0               2  "
            ],
            "text/html": [
              "\n",
              "  <div id=\"df-38d9311b-2e02-4bfa-907c-40cbb838e973\">\n",
              "    <div class=\"colab-df-container\">\n",
              "      <div>\n",
              "<style scoped>\n",
              "    .dataframe tbody tr th:only-of-type {\n",
              "        vertical-align: middle;\n",
              "    }\n",
              "\n",
              "    .dataframe tbody tr th {\n",
              "        vertical-align: top;\n",
              "    }\n",
              "\n",
              "    .dataframe thead th {\n",
              "        text-align: right;\n",
              "    }\n",
              "</style>\n",
              "<table border=\"1\" class=\"dataframe\">\n",
              "  <thead>\n",
              "    <tr style=\"text-align: right;\">\n",
              "      <th></th>\n",
              "      <th>dummy_sexo_feminino</th>\n",
              "      <th>municipio_residencia</th>\n",
              "      <th>idade</th>\n",
              "      <th>cor_raca</th>\n",
              "      <th>escola_publica</th>\n",
              "      <th>nota_matematica</th>\n",
              "      <th>nota_ciencia</th>\n",
              "      <th>escolaridade_pai</th>\n",
              "      <th>escolaridade_mae</th>\n",
              "      <th>tamanho_familia</th>\n",
              "      <th>internet</th>\n",
              "      <th>computador</th>\n",
              "      <th>renda_familiar</th>\n",
              "    </tr>\n",
              "  </thead>\n",
              "  <tbody>\n",
              "    <tr>\n",
              "      <th>3</th>\n",
              "      <td>0</td>\n",
              "      <td>Lauro de Freitas</td>\n",
              "      <td>17.0</td>\n",
              "      <td>2</td>\n",
              "      <td>1</td>\n",
              "      <td>704.5</td>\n",
              "      <td>567.3</td>\n",
              "      <td>1</td>\n",
              "      <td>0</td>\n",
              "      <td>2</td>\n",
              "      <td>1</td>\n",
              "      <td>0</td>\n",
              "      <td>2</td>\n",
              "    </tr>\n",
              "    <tr>\n",
              "      <th>7</th>\n",
              "      <td>0</td>\n",
              "      <td>São Sebastião do Passé</td>\n",
              "      <td>19.0</td>\n",
              "      <td>3</td>\n",
              "      <td>1</td>\n",
              "      <td>392.5</td>\n",
              "      <td>361.2</td>\n",
              "      <td>0</td>\n",
              "      <td>0</td>\n",
              "      <td>5</td>\n",
              "      <td>1</td>\n",
              "      <td>0</td>\n",
              "      <td>2</td>\n",
              "    </tr>\n",
              "    <tr>\n",
              "      <th>22</th>\n",
              "      <td>1</td>\n",
              "      <td>Salvador</td>\n",
              "      <td>18.0</td>\n",
              "      <td>3</td>\n",
              "      <td>1</td>\n",
              "      <td>425.2</td>\n",
              "      <td>523.6</td>\n",
              "      <td>1</td>\n",
              "      <td>0</td>\n",
              "      <td>6</td>\n",
              "      <td>1</td>\n",
              "      <td>0</td>\n",
              "      <td>3</td>\n",
              "    </tr>\n",
              "    <tr>\n",
              "      <th>28</th>\n",
              "      <td>0</td>\n",
              "      <td>Serrinha</td>\n",
              "      <td>19.0</td>\n",
              "      <td>2</td>\n",
              "      <td>1</td>\n",
              "      <td>386.4</td>\n",
              "      <td>525.0</td>\n",
              "      <td>0</td>\n",
              "      <td>1</td>\n",
              "      <td>3</td>\n",
              "      <td>1</td>\n",
              "      <td>1</td>\n",
              "      <td>2</td>\n",
              "    </tr>\n",
              "    <tr>\n",
              "      <th>43</th>\n",
              "      <td>0</td>\n",
              "      <td>Itapetinga</td>\n",
              "      <td>17.0</td>\n",
              "      <td>2</td>\n",
              "      <td>1</td>\n",
              "      <td>441.9</td>\n",
              "      <td>378.6</td>\n",
              "      <td>0</td>\n",
              "      <td>0</td>\n",
              "      <td>3</td>\n",
              "      <td>0</td>\n",
              "      <td>0</td>\n",
              "      <td>2</td>\n",
              "    </tr>\n",
              "  </tbody>\n",
              "</table>\n",
              "</div>\n",
              "      <button class=\"colab-df-convert\" onclick=\"convertToInteractive('df-38d9311b-2e02-4bfa-907c-40cbb838e973')\"\n",
              "              title=\"Convert this dataframe to an interactive table.\"\n",
              "              style=\"display:none;\">\n",
              "        \n",
              "  <svg xmlns=\"http://www.w3.org/2000/svg\" height=\"24px\"viewBox=\"0 0 24 24\"\n",
              "       width=\"24px\">\n",
              "    <path d=\"M0 0h24v24H0V0z\" fill=\"none\"/>\n",
              "    <path d=\"M18.56 5.44l.94 2.06.94-2.06 2.06-.94-2.06-.94-.94-2.06-.94 2.06-2.06.94zm-11 1L8.5 8.5l.94-2.06 2.06-.94-2.06-.94L8.5 2.5l-.94 2.06-2.06.94zm10 10l.94 2.06.94-2.06 2.06-.94-2.06-.94-.94-2.06-.94 2.06-2.06.94z\"/><path d=\"M17.41 7.96l-1.37-1.37c-.4-.4-.92-.59-1.43-.59-.52 0-1.04.2-1.43.59L10.3 9.45l-7.72 7.72c-.78.78-.78 2.05 0 2.83L4 21.41c.39.39.9.59 1.41.59.51 0 1.02-.2 1.41-.59l7.78-7.78 2.81-2.81c.8-.78.8-2.07 0-2.86zM5.41 20L4 18.59l7.72-7.72 1.47 1.35L5.41 20z\"/>\n",
              "  </svg>\n",
              "      </button>\n",
              "      \n",
              "  <style>\n",
              "    .colab-df-container {\n",
              "      display:flex;\n",
              "      flex-wrap:wrap;\n",
              "      gap: 12px;\n",
              "    }\n",
              "\n",
              "    .colab-df-convert {\n",
              "      background-color: #E8F0FE;\n",
              "      border: none;\n",
              "      border-radius: 50%;\n",
              "      cursor: pointer;\n",
              "      display: none;\n",
              "      fill: #1967D2;\n",
              "      height: 32px;\n",
              "      padding: 0 0 0 0;\n",
              "      width: 32px;\n",
              "    }\n",
              "\n",
              "    .colab-df-convert:hover {\n",
              "      background-color: #E2EBFA;\n",
              "      box-shadow: 0px 1px 2px rgba(60, 64, 67, 0.3), 0px 1px 3px 1px rgba(60, 64, 67, 0.15);\n",
              "      fill: #174EA6;\n",
              "    }\n",
              "\n",
              "    [theme=dark] .colab-df-convert {\n",
              "      background-color: #3B4455;\n",
              "      fill: #D2E3FC;\n",
              "    }\n",
              "\n",
              "    [theme=dark] .colab-df-convert:hover {\n",
              "      background-color: #434B5C;\n",
              "      box-shadow: 0px 1px 3px 1px rgba(0, 0, 0, 0.15);\n",
              "      filter: drop-shadow(0px 1px 2px rgba(0, 0, 0, 0.3));\n",
              "      fill: #FFFFFF;\n",
              "    }\n",
              "  </style>\n",
              "\n",
              "      <script>\n",
              "        const buttonEl =\n",
              "          document.querySelector('#df-38d9311b-2e02-4bfa-907c-40cbb838e973 button.colab-df-convert');\n",
              "        buttonEl.style.display =\n",
              "          google.colab.kernel.accessAllowed ? 'block' : 'none';\n",
              "\n",
              "        async function convertToInteractive(key) {\n",
              "          const element = document.querySelector('#df-38d9311b-2e02-4bfa-907c-40cbb838e973');\n",
              "          const dataTable =\n",
              "            await google.colab.kernel.invokeFunction('convertToInteractive',\n",
              "                                                     [key], {});\n",
              "          if (!dataTable) return;\n",
              "\n",
              "          const docLinkHtml = 'Like what you see? Visit the ' +\n",
              "            '<a target=\"_blank\" href=https://colab.research.google.com/notebooks/data_table.ipynb>data table notebook</a>'\n",
              "            + ' to learn more about interactive tables.';\n",
              "          element.innerHTML = '';\n",
              "          dataTable['output_type'] = 'display_data';\n",
              "          await google.colab.output.renderOutput(dataTable, element);\n",
              "          const docLink = document.createElement('div');\n",
              "          docLink.innerHTML = docLinkHtml;\n",
              "          element.appendChild(docLink);\n",
              "        }\n",
              "      </script>\n",
              "    </div>\n",
              "  </div>\n",
              "  "
            ]
          },
          "metadata": {},
          "execution_count": 4
        }
      ]
    },
    {
      "cell_type": "code",
      "source": [
        "base_amostra.info()"
      ],
      "metadata": {
        "colab": {
          "base_uri": "https://localhost:8080/"
        },
        "id": "bUtkazAURtJ1",
        "outputId": "b7957ff2-57c6-41c6-9b0c-731e598361ee"
      },
      "execution_count": null,
      "outputs": [
        {
          "output_type": "stream",
          "name": "stdout",
          "text": [
            "<class 'pandas.core.frame.DataFrame'>\n",
            "Int64Index: 78526 entries, 3 to 250103\n",
            "Data columns (total 13 columns):\n",
            " #   Column                Non-Null Count  Dtype  \n",
            "---  ------                --------------  -----  \n",
            " 0   dummy_sexo_feminino   78526 non-null  int64  \n",
            " 1   municipio_residencia  78526 non-null  object \n",
            " 2   idade                 78526 non-null  float64\n",
            " 3   cor_raca              78526 non-null  int64  \n",
            " 4   escola_publica        78526 non-null  int64  \n",
            " 5   nota_matematica       78526 non-null  float64\n",
            " 6   nota_ciencia          78526 non-null  float64\n",
            " 7   escolaridade_pai      78526 non-null  int64  \n",
            " 8   escolaridade_mae      78526 non-null  int64  \n",
            " 9   tamanho_familia       78526 non-null  int64  \n",
            " 10  internet              78526 non-null  int64  \n",
            " 11  computador            78526 non-null  int64  \n",
            " 12  renda_familiar        78526 non-null  int64  \n",
            "dtypes: float64(3), int64(9), object(1)\n",
            "memory usage: 8.4+ MB\n"
          ]
        }
      ]
    },
    {
      "cell_type": "code",
      "source": [
        "base_amostra.shape"
      ],
      "metadata": {
        "colab": {
          "base_uri": "https://localhost:8080/"
        },
        "id": "KuF56b7_2Ff-",
        "outputId": "141fb207-9490-44dc-f287-32e9a58a93db"
      },
      "execution_count": null,
      "outputs": [
        {
          "output_type": "execute_result",
          "data": {
            "text/plain": [
              "(78526, 13)"
            ]
          },
          "metadata": {},
          "execution_count": 6
        }
      ]
    },
    {
      "cell_type": "code",
      "source": [
        "base_amostra.isnull().sum()"
      ],
      "metadata": {
        "colab": {
          "base_uri": "https://localhost:8080/"
        },
        "id": "JS0Megr9HFWu",
        "outputId": "3673cb26-5245-43d5-8e6f-5409245839c1"
      },
      "execution_count": null,
      "outputs": [
        {
          "output_type": "execute_result",
          "data": {
            "text/plain": [
              "dummy_sexo_feminino     0\n",
              "municipio_residencia    0\n",
              "idade                   0\n",
              "cor_raca                0\n",
              "escola_publica          0\n",
              "nota_matematica         0\n",
              "nota_ciencia            0\n",
              "escolaridade_pai        0\n",
              "escolaridade_mae        0\n",
              "tamanho_familia         0\n",
              "internet                0\n",
              "computador              0\n",
              "renda_familiar          0\n",
              "dtype: int64"
            ]
          },
          "metadata": {},
          "execution_count": 7
        }
      ]
    },
    {
      "cell_type": "markdown",
      "source": [
        "#### Preparandos os dados e treinando o modelo.\n",
        "\n",
        "Neste tópico realizamos os seguintes processos:\n",
        "\n",
        "- Separando os dados em bases de treino e de teste para tratamento e treinamento do modelo.\n",
        "- Tratando a target **'nota_matematica'** aplicando logarítmo.\n",
        "- Tratandos a variável **'municipio_residencia'**, uma variável qualitativa nominal, com o método *'CountEncoder'*.\n",
        "- Tratando as variáveis **'idade'**, **'tamanho_familia'**,  e **'nota_ciencia'** , variáveis quantitativas discretas com método *'RobustScaler'*.\n",
        "\n",
        "As variáveis **'dummy_sexy_feminino'**, **'cor_raca**', **'escolha_publica**', **'escolaridade_pai'**, **'escolaridade_mae'**, **'internet**' e **'computador'** já foram tratadas na construção da base a partir da amostra de dados, de forma que não é necessário nenhum processamento posterior.\n"
      ],
      "metadata": {
        "id": "aiTjToeH9tS3"
      }
    },
    {
      "cell_type": "markdown",
      "source": [
        "##### Target:"
      ],
      "metadata": {
        "id": "Xpx7Z3BEMoOR"
      }
    },
    {
      "cell_type": "code",
      "source": [
        "# Verificando distribuição da target:\n",
        "sns.histplot(base_amostra['nota_matematica'], kde=True)\n",
        "plt.title('Distribuição Target (Nota de Matemática)')\n",
        "plt.show()\n"
      ],
      "metadata": {
        "colab": {
          "base_uri": "https://localhost:8080/",
          "height": 472
        },
        "id": "NYMuwsmAw5_r",
        "outputId": "a60ccbad-6136-4a88-f00f-af8792d42176"
      },
      "execution_count": null,
      "outputs": [
        {
          "output_type": "display_data",
          "data": {
            "text/plain": [
              "<Figure size 640x480 with 1 Axes>"
            ],
            "image/png": "[encoded data removed]"
          },
          "metadata": {}
        }
      ]
    },
    {
      "cell_type": "markdown",
      "source": [
        "Vemos pelo gráfico acima que a target possui uma distribuição assimétrica, apresentando calda a direita.\n",
        "\n",
        "Ao aplicar logarítimo, **é possível reduzir essa assimetria, tornando a distribuição mais próxima de uma distribuição normal**.\n",
        "\n",
        "Quando a target possui uma distribuição mais próxima da normal, é mais provável que os resíduos também sigam essa distribuição, o que é consistente com a **suposição da regressão linear.** Iremos verificar isso mais adiante."
      ],
      "metadata": {
        "id": "5n37es4-xkkB"
      }
    },
    {
      "cell_type": "code",
      "source": [
        "# base de treino e de teste:\n",
        "X = base_amostra.drop(columns = ['nota_matematica']) # features\n",
        "y = np.log(base_amostra.nota_matematica) # target\n",
        "\n",
        "X_train, X_test, y_train, y_test = train_test_split(X,\n",
        "                                                    y,\n",
        "                                                    random_state = 1,\n",
        "                                                    test_size = 0.3)"
      ],
      "metadata": {
        "id": "oJzhHUvH24GQ"
      },
      "execution_count": null,
      "outputs": []
    },
    {
      "cell_type": "code",
      "source": [
        "X_train.shape, X_test.shape"
      ],
      "metadata": {
        "colab": {
          "base_uri": "https://localhost:8080/"
        },
        "id": "f2RTBFNMyNtA",
        "outputId": "15c26c8d-9dec-4622-f424-4e889fc7ba1c"
      },
      "execution_count": null,
      "outputs": [
        {
          "output_type": "execute_result",
          "data": {
            "text/plain": [
              "((54968, 12), (23558, 12))"
            ]
          },
          "metadata": {},
          "execution_count": 10
        }
      ]
    },
    {
      "cell_type": "markdown",
      "source": [
        "##### Variáveis quantitativas:"
      ],
      "metadata": {
        "id": "iT9zkABkMtR8"
      }
    },
    {
      "cell_type": "code",
      "source": [
        "# Verificando a distribuição das variáveis numéricas:\n",
        "\n",
        "# gráficos de histograma das variáveis selecionadas\n",
        "fig, axes = plt.subplots(1, 3, figsize=(12, 2))\n",
        "\n",
        "columns_to_plot_numeric = ['idade', 'tamanho_familia', 'nota_ciencia']\n",
        "\n",
        "for i, column in enumerate(columns_to_plot_numeric):\n",
        "    ax = axes[i % 3]\n",
        "    sns.histplot(base_amostra[column], bins=10, ax=ax)\n",
        "    ax.set_xlabel(column)\n",
        "    ax.set_ylabel('Frequência')\n",
        "    ax.set_title('Histograma de ' + column)\n",
        "\n",
        "plt.tight_layout()\n",
        "plt.show()\n"
      ],
      "metadata": {
        "colab": {
          "base_uri": "https://localhost:8080/",
          "height": 207
        },
        "id": "CzDzoHjcVpPI",
        "outputId": "1c12307f-e200-407f-f9bf-a07248400795"
      },
      "execution_count": null,
      "outputs": [
        {
          "output_type": "display_data",
          "data": {
            "text/plain": [
              "<Figure size 1200x200 with 3 Axes>"
            ],
            "image/png": "[encoded data removed]"
          },
          "metadata": {}
        }
      ]
    },
    {
      "cell_type": "code",
      "source": [
        "# Verificando outliers:\n",
        "\n",
        "# Boxplot das variáveis selecionadas\n",
        "fig, axes = plt.subplots(1, 3, figsize=(12, 4))\n",
        "\n",
        "columns_to_plot_numeric = ['idade', 'tamanho_familia', 'nota_ciencia']\n",
        "\n",
        "for i, column in enumerate(columns_to_plot_numeric):\n",
        "    ax = axes[i % 3]\n",
        "    sns.boxplot(x=base_amostra[column], ax=ax)\n",
        "    ax.set_xlabel(column)\n",
        "    ax.set_ylabel('Valor')\n",
        "    ax.set_title('Boxplot de ' + column)\n",
        "\n",
        "plt.tight_layout()\n",
        "plt.show()\n"
      ],
      "metadata": {
        "colab": {
          "base_uri": "https://localhost:8080/",
          "height": 407
        },
        "id": "fET2vVgxL94T",
        "outputId": "d993dd44-0649-48c8-83d3-d9c91e68f30a"
      },
      "execution_count": null,
      "outputs": [
        {
          "output_type": "display_data",
          "data": {
            "text/plain": [
              "<Figure size 1200x400 with 3 Axes>"
            ],
            "image/png": "[encoded data removed]"
          },
          "metadata": {}
        }
      ]
    },
    {
      "cell_type": "markdown",
      "source": [
        "É possível verificar que as variáveis possuem uma **distribuição assimétrica**, apresentando caldas a direita.\n",
        "\n",
        "Pelo boxplot também validamos que **há presença de outilers** nos dados.\n",
        "\n",
        "> Dessa forma, é necessária a aplicação do método *'RobustScaler'* **para dimensionar as variáveis**. O uso do RobustScaler pode ajudar a melhorar o desempenho do modelo, **garantindo que os dados sejam adequadamente escalonados e considerando a presença de valores atípicos (outilers).**\n"
      ],
      "metadata": {
        "id": "1yhpPdnLVtpI"
      }
    },
    {
      "cell_type": "markdown",
      "source": [
        "##### Variáveis qualitativas:"
      ],
      "metadata": {
        "id": "3yUvRSqlMxuU"
      }
    },
    {
      "cell_type": "code",
      "source": [
        "base_amostra['municipio_residencia']"
      ],
      "metadata": {
        "colab": {
          "base_uri": "https://localhost:8080/"
        },
        "id": "EmomtKILM7sX",
        "outputId": "874c7fbe-94e7-4c05-f5de-4f5ecdf050fb"
      },
      "execution_count": null,
      "outputs": [
        {
          "output_type": "execute_result",
          "data": {
            "text/plain": [
              "3               Lauro de Freitas\n",
              "7         São Sebastião do Passé\n",
              "22                      Salvador\n",
              "28                      Serrinha\n",
              "43                    Itapetinga\n",
              "                   ...          \n",
              "250072                     Lapão\n",
              "250075                  Salvador\n",
              "250086                   Itabuna\n",
              "250099                   Caetité\n",
              "250103              Simões Filho\n",
              "Name: municipio_residencia, Length: 78526, dtype: object"
            ]
          },
          "metadata": {},
          "execution_count": 13
        }
      ]
    },
    {
      "cell_type": "markdown",
      "source": [
        "Dentre as features, temos a variável **'municipio_residencia'** que, inicialmente, está no **formato qualitativo nominal.**\n",
        "\n",
        "No entanto, para aplicarmos o modelo de regressão, **é necessário realizar o tratamento dessas informações.**\n",
        "\n",
        "> Para isso foi escolhido o método 'CountEncoder' que irá transformar as categorias presentes na variável 'municipio_residencia' em **valores numéricos correspondentes à contagem de ocorrências de cada categoria no conjunto de dados.** Cada categoria será substituída pelo número de instâncias em que ela ocorre. Essa transformação permitirá que a variável seja utilizada no modelo de regressão linear, já que será representada de forma numérica.\n",
        "\n"
      ],
      "metadata": {
        "id": "x6PtXgyhM_Kk"
      }
    },
    {
      "cell_type": "markdown",
      "source": [
        "\n",
        "Para aplicar as tranformações necessárias iremos criar um pipeline, conforme abaixo:"
      ],
      "metadata": {
        "id": "DU8_4BJKM3kw"
      }
    },
    {
      "cell_type": "code",
      "source": [
        "# aplicando CountEncoder na variável nominal:\n",
        "columns_to_encode = ['municipio_residencia']\n",
        "\n",
        "# aplicando RobustScaler nas variáveis numéricas:\n",
        "columns_to_scale_numeric = ['idade', 'tamanho_familia', 'nota_ciencia']\n",
        "\n",
        "# criar o transformador para aplicar as transformações\n",
        "transformer = ColumnTransformer(\n",
        "    transformers=[\n",
        "        ('count_encoder', CountEncoder(), columns_to_encode),\n",
        "        ('robust_scaler', RobustScaler(), columns_to_scale_numeric)\n",
        "    ],\n",
        "    remainder='passthrough'\n",
        ")\n",
        "\n",
        "# criando o pipeline com o transformador e o modelo\n",
        "pipeline = Pipeline([\n",
        "    ('transformer', transformer),\n",
        "    ('model', LinearRegression())\n",
        "])\n",
        "\n",
        "# ajustar o pipeline aos dados de treino\n",
        "pipeline.fit(X_train, y_train)\n",
        "\n",
        "# prever os valores de saída para os dados de teste\n",
        "y_pred = pipeline.predict(X_test)"
      ],
      "metadata": {
        "id": "-R84J2JvXRE9"
      },
      "execution_count": null,
      "outputs": []
    },
    {
      "cell_type": "markdown",
      "source": [
        "#### Pré-supostos para aplicação da regressão:\n",
        "\n",
        "O próximo passo é realizar as verificações para validação e confiabilidade da regressão realizada, ou seja, **se os coeficientes são de fato representativos.**\n",
        "\n",
        "Para isso, os resíduos devem:\n",
        "\n",
        "- **Variância constante:** todos os resíduos têm a mesma variância.\n",
        "- **Normalidade:** os resíduos são normalmente distribuídos.\n",
        "\n",
        "E para as features:\n",
        "\n",
        "- **Sem multicolinearidade:** as variáveis independentes não devem ser correlacionadas umas com as outras.\n"
      ],
      "metadata": {
        "id": "ydqNXKaB5JvJ"
      }
    },
    {
      "cell_type": "code",
      "source": [
        "# calculo dos resíduos:\n",
        "resid = y_test - y_pred\n",
        "resid"
      ],
      "metadata": {
        "colab": {
          "base_uri": "https://localhost:8080/"
        },
        "id": "q-J8TnUa-nGh",
        "outputId": "7056c8bd-abc8-4a20-f045-db25e293d844"
      },
      "execution_count": null,
      "outputs": [
        {
          "output_type": "execute_result",
          "data": {
            "text/plain": [
              "188959    0.125495\n",
              "51600    -0.072019\n",
              "33640    -0.133108\n",
              "54067    -0.080938\n",
              "144568   -0.118001\n",
              "            ...   \n",
              "93080    -0.144789\n",
              "34080     0.029640\n",
              "71622    -0.019313\n",
              "169366    0.200693\n",
              "197293    0.039491\n",
              "Name: nota_matematica, Length: 23558, dtype: float64"
            ]
          },
          "metadata": {},
          "execution_count": 15
        }
      ]
    },
    {
      "cell_type": "code",
      "source": [
        "# comparação valores reais, previsos e seus respectivos resíduos:\n",
        "comparacao = pd.DataFrame({'Valores reais (y)': y_test, 'Valores previstos (y)': y_pred, 'Resíduo': resid})\n",
        "comparacao"
      ],
      "metadata": {
        "colab": {
          "base_uri": "https://localhost:8080/",
          "height": 424
        },
        "id": "wVRYZ0wR5I4L",
        "outputId": "f88c9a7e-9211-40dd-936a-b8ffd9578fde"
      },
      "execution_count": null,
      "outputs": [
        {
          "output_type": "execute_result",
          "data": {
            "text/plain": [
              "        Valores reais (y)  Valores previstos (y)   Resíduo\n",
              "188959           6.512042               6.386548  0.125495\n",
              "51600            6.096050               6.168069 -0.072019\n",
              "33640            6.005860               6.138969 -0.133108\n",
              "54067            6.075346               6.156284 -0.080938\n",
              "144568           6.084955               6.202956 -0.118001\n",
              "...                   ...                    ...       ...\n",
              "93080            5.985195               6.129984 -0.144789\n",
              "34080            6.333990               6.304350  0.029640\n",
              "71622            6.164367               6.183680 -0.019313\n",
              "169366           6.486313               6.285620  0.200693\n",
              "197293           6.348614               6.309124  0.039491\n",
              "\n",
              "[23558 rows x 3 columns]"
            ],
            "text/html": [
              "\n",
              "  <div id=\"df-a3334bf7-444c-4ecf-9e2b-9cf3ad3761de\">\n",
              "    <div class=\"colab-df-container\">\n",
              "      <div>\n",
              "<style scoped>\n",
              "    .dataframe tbody tr th:only-of-type {\n",
              "        vertical-align: middle;\n",
              "    }\n",
              "\n",
              "    .dataframe tbody tr th {\n",
              "        vertical-align: top;\n",
              "    }\n",
              "\n",
              "    .dataframe thead th {\n",
              "        text-align: right;\n",
              "    }\n",
              "</style>\n",
              "<table border=\"1\" class=\"dataframe\">\n",
              "  <thead>\n",
              "    <tr style=\"text-align: right;\">\n",
              "      <th></th>\n",
              "      <th>Valores reais (y)</th>\n",
              "      <th>Valores previstos (y)</th>\n",
              "      <th>Resíduo</th>\n",
              "    </tr>\n",
              "  </thead>\n",
              "  <tbody>\n",
              "    <tr>\n",
              "      <th>188959</th>\n",
              "      <td>6.512042</td>\n",
              "      <td>6.386548</td>\n",
              "      <td>0.125495</td>\n",
              "    </tr>\n",
              "    <tr>\n",
              "      <th>51600</th>\n",
              "      <td>6.096050</td>\n",
              "      <td>6.168069</td>\n",
              "      <td>-0.072019</td>\n",
              "    </tr>\n",
              "    <tr>\n",
              "      <th>33640</th>\n",
              "      <td>6.005860</td>\n",
              "      <td>6.138969</td>\n",
              "      <td>-0.133108</td>\n",
              "    </tr>\n",
              "    <tr>\n",
              "      <th>54067</th>\n",
              "      <td>6.075346</td>\n",
              "      <td>6.156284</td>\n",
              "      <td>-0.080938</td>\n",
              "    </tr>\n",
              "    <tr>\n",
              "      <th>144568</th>\n",
              "      <td>6.084955</td>\n",
              "      <td>6.202956</td>\n",
              "      <td>-0.118001</td>\n",
              "    </tr>\n",
              "    <tr>\n",
              "      <th>...</th>\n",
              "      <td>...</td>\n",
              "      <td>...</td>\n",
              "      <td>...</td>\n",
              "    </tr>\n",
              "    <tr>\n",
              "      <th>93080</th>\n",
              "      <td>5.985195</td>\n",
              "      <td>6.129984</td>\n",
              "      <td>-0.144789</td>\n",
              "    </tr>\n",
              "    <tr>\n",
              "      <th>34080</th>\n",
              "      <td>6.333990</td>\n",
              "      <td>6.304350</td>\n",
              "      <td>0.029640</td>\n",
              "    </tr>\n",
              "    <tr>\n",
              "      <th>71622</th>\n",
              "      <td>6.164367</td>\n",
              "      <td>6.183680</td>\n",
              "      <td>-0.019313</td>\n",
              "    </tr>\n",
              "    <tr>\n",
              "      <th>169366</th>\n",
              "      <td>6.486313</td>\n",
              "      <td>6.285620</td>\n",
              "      <td>0.200693</td>\n",
              "    </tr>\n",
              "    <tr>\n",
              "      <th>197293</th>\n",
              "      <td>6.348614</td>\n",
              "      <td>6.309124</td>\n",
              "      <td>0.039491</td>\n",
              "    </tr>\n",
              "  </tbody>\n",
              "</table>\n",
              "<p>23558 rows × 3 columns</p>\n",
              "</div>\n",
              "      <button class=\"colab-df-convert\" onclick=\"convertToInteractive('df-a3334bf7-444c-4ecf-9e2b-9cf3ad3761de')\"\n",
              "              title=\"Convert this dataframe to an interactive table.\"\n",
              "              style=\"display:none;\">\n",
              "        \n",
              "  <svg xmlns=\"http://www.w3.org/2000/svg\" height=\"24px\"viewBox=\"0 0 24 24\"\n",
              "       width=\"24px\">\n",
              "    <path d=\"M0 0h24v24H0V0z\" fill=\"none\"/>\n",
              "    <path d=\"M18.56 5.44l.94 2.06.94-2.06 2.06-.94-2.06-.94-.94-2.06-.94 2.06-2.06.94zm-11 1L8.5 8.5l.94-2.06 2.06-.94-2.06-.94L8.5 2.5l-.94 2.06-2.06.94zm10 10l.94 2.06.94-2.06 2.06-.94-2.06-.94-.94-2.06-.94 2.06-2.06.94z\"/><path d=\"M17.41 7.96l-1.37-1.37c-.4-.4-.92-.59-1.43-.59-.52 0-1.04.2-1.43.59L10.3 9.45l-7.72 7.72c-.78.78-.78 2.05 0 2.83L4 21.41c.39.39.9.59 1.41.59.51 0 1.02-.2 1.41-.59l7.78-7.78 2.81-2.81c.8-.78.8-2.07 0-2.86zM5.41 20L4 18.59l7.72-7.72 1.47 1.35L5.41 20z\"/>\n",
              "  </svg>\n",
              "      </button>\n",
              "      \n",
              "  <style>\n",
              "    .colab-df-container {\n",
              "      display:flex;\n",
              "      flex-wrap:wrap;\n",
              "      gap: 12px;\n",
              "    }\n",
              "\n",
              "    .colab-df-convert {\n",
              "      background-color: #E8F0FE;\n",
              "      border: none;\n",
              "      border-radius: 50%;\n",
              "      cursor: pointer;\n",
              "      display: none;\n",
              "      fill: #1967D2;\n",
              "      height: 32px;\n",
              "      padding: 0 0 0 0;\n",
              "      width: 32px;\n",
              "    }\n",
              "\n",
              "    .colab-df-convert:hover {\n",
              "      background-color: #E2EBFA;\n",
              "      box-shadow: 0px 1px 2px rgba(60, 64, 67, 0.3), 0px 1px 3px 1px rgba(60, 64, 67, 0.15);\n",
              "      fill: #174EA6;\n",
              "    }\n",
              "\n",
              "    [theme=dark] .colab-df-convert {\n",
              "      background-color: #3B4455;\n",
              "      fill: #D2E3FC;\n",
              "    }\n",
              "\n",
              "    [theme=dark] .colab-df-convert:hover {\n",
              "      background-color: #434B5C;\n",
              "      box-shadow: 0px 1px 3px 1px rgba(0, 0, 0, 0.15);\n",
              "      filter: drop-shadow(0px 1px 2px rgba(0, 0, 0, 0.3));\n",
              "      fill: #FFFFFF;\n",
              "    }\n",
              "  </style>\n",
              "\n",
              "      <script>\n",
              "        const buttonEl =\n",
              "          document.querySelector('#df-a3334bf7-444c-4ecf-9e2b-9cf3ad3761de button.colab-df-convert');\n",
              "        buttonEl.style.display =\n",
              "          google.colab.kernel.accessAllowed ? 'block' : 'none';\n",
              "\n",
              "        async function convertToInteractive(key) {\n",
              "          const element = document.querySelector('#df-a3334bf7-444c-4ecf-9e2b-9cf3ad3761de');\n",
              "          const dataTable =\n",
              "            await google.colab.kernel.invokeFunction('convertToInteractive',\n",
              "                                                     [key], {});\n",
              "          if (!dataTable) return;\n",
              "\n",
              "          const docLinkHtml = 'Like what you see? Visit the ' +\n",
              "            '<a target=\"_blank\" href=https://colab.research.google.com/notebooks/data_table.ipynb>data table notebook</a>'\n",
              "            + ' to learn more about interactive tables.';\n",
              "          element.innerHTML = '';\n",
              "          dataTable['output_type'] = 'display_data';\n",
              "          await google.colab.output.renderOutput(dataTable, element);\n",
              "          const docLink = document.createElement('div');\n",
              "          docLink.innerHTML = docLinkHtml;\n",
              "          element.appendChild(docLink);\n",
              "        }\n",
              "      </script>\n",
              "    </div>\n",
              "  </div>\n",
              "  "
            ]
          },
          "metadata": {},
          "execution_count": 16
        }
      ]
    },
    {
      "cell_type": "code",
      "source": [
        "# Verificar a distribuição dos residuos\n",
        "sns.histplot(resid, kde=True)\n",
        "plt.title('Histograma dos Resíduo')\n",
        "plt.show()"
      ],
      "metadata": {
        "colab": {
          "base_uri": "https://localhost:8080/",
          "height": 472
        },
        "id": "P_zwYDP_yUp5",
        "outputId": "7d9cc02d-cc27-4df8-cdd2-3cbf235aea61"
      },
      "execution_count": null,
      "outputs": [
        {
          "output_type": "display_data",
          "data": {
            "text/plain": [
              "<Figure size 640x480 with 1 Axes>"
            ],
            "image/png": "[encoded data removed]"
          },
          "metadata": {}
        }
      ]
    },
    {
      "cell_type": "code",
      "source": [
        "# testando a normalidade dos resíduos - Shapiro-Wilk:\n",
        "stat, p_valor = shapiro(resid)\n",
        "\n",
        "print(\"Estatística de teste:\", stat)\n",
        "print(\"Valor p:\", p_valor)\n",
        "\n",
        "if p_valor > 0.05:\n",
        "    print(\"Os resíduos seguem uma distribuição normal.\")\n",
        "else:\n",
        "    print(\"Os resíduos não seguem uma distribuição normal.\")"
      ],
      "metadata": {
        "colab": {
          "base_uri": "https://localhost:8080/"
        },
        "id": "33jF3ootKDYe",
        "outputId": "38b5cc92-f1e7-42a3-a018-96a973e36e38"
      },
      "execution_count": null,
      "outputs": [
        {
          "output_type": "stream",
          "name": "stdout",
          "text": [
            "Estatística de teste: 0.9989578127861023\n",
            "Valor p: 4.9703952759161396e-11\n",
            "Os resíduos não seguem uma distribuição normal.\n"
          ]
        }
      ]
    },
    {
      "cell_type": "code",
      "source": [
        "# gráficos de residuo vs x's para variáveis numéricas\n",
        "fig, axes = plt.subplots(1, 3, figsize=(12, 2))\n",
        "\n",
        "columns_to_plot = ['idade', 'tamanho_familia', 'municipio_residencia']\n",
        "\n",
        "for i, column in enumerate(columns_to_plot):\n",
        "    ax = axes[i % 3]\n",
        "    sns.scatterplot(x=X_test[column], y=resid, ax=ax)\n",
        "    ax.set_xlabel(column)\n",
        "    ax.set_ylabel('Resíduos')\n",
        "    ax.set_title('Resíduos vs. ' + column)\n",
        "\n",
        "plt.tight_layout()\n",
        "plt.show()\n"
      ],
      "metadata": {
        "colab": {
          "base_uri": "https://localhost:8080/",
          "height": 207
        },
        "id": "Av0kc2VVFNcY",
        "outputId": "12c89063-1952-4ab1-f065-47be1887346e"
      },
      "execution_count": null,
      "outputs": [
        {
          "output_type": "display_data",
          "data": {
            "text/plain": [
              "<Figure size 1200x200 with 3 Axes>"
            ],
            "image/png": "[encoded data removed]"
          },
          "metadata": {}
        }
      ]
    },
    {
      "cell_type": "code",
      "source": [
        "# Verificando multicolinearidade das variáveis - VIF\n",
        "\n",
        "# extraindo as infos de X tratadas no pipeline\n",
        "X_train_transformed = pipeline.named_steps['transformer'].transform(X_train)\n",
        "X_train_transformed\n",
        "\n",
        "# calculando vif\n",
        "vif_data = pd.DataFrame()\n",
        "vif_data[\"Variável\"] = X_train.columns\n",
        "vif_data[\"VIF\"] = [variance_inflation_factor(X_train_transformed, i)\n",
        "                   for i in range(X_train_transformed.shape[1])]\n",
        "\n",
        "vif_data[\"Conclusão\"] = [\"Não há multicolinearidade\"\n",
        "                          if v == 1 else \"Nível moderado de multicolinearidade\"\n",
        "                          if 1 < v < 5 else \"Alta multicolinearidade\"\n",
        "                          for v in vif_data[\"VIF\"]]\n",
        "\n",
        "vif_data"
      ],
      "metadata": {
        "colab": {
          "base_uri": "https://localhost:8080/",
          "height": 426
        },
        "id": "AkzThJuB-HHZ",
        "outputId": "42e07e27-5252-4652-b287-b9aaa2982a07"
      },
      "execution_count": null,
      "outputs": [
        {
          "output_type": "execute_result",
          "data": {
            "text/plain": [
              "                Variável       VIF                             Conclusão\n",
              "0    dummy_sexo_feminino  1.511457  Nível moderado de multicolinearidade\n",
              "1   municipio_residencia  1.061240  Nível moderado de multicolinearidade\n",
              "2                  idade  1.037470  Nível moderado de multicolinearidade\n",
              "3               cor_raca  1.396802  Nível moderado de multicolinearidade\n",
              "4         escola_publica  2.437401  Nível moderado de multicolinearidade\n",
              "5           nota_ciencia  5.939957               Alta multicolinearidade\n",
              "6       escolaridade_pai  5.146558               Alta multicolinearidade\n",
              "7       escolaridade_mae  2.237671  Nível moderado de multicolinearidade\n",
              "8        tamanho_familia  3.026351  Nível moderado de multicolinearidade\n",
              "9               internet  4.888540  Nível moderado de multicolinearidade\n",
              "10            computador  2.537642  Nível moderado de multicolinearidade\n",
              "11        renda_familiar  3.775495  Nível moderado de multicolinearidade"
            ],
            "text/html": [
              "\n",
              "  <div id=\"df-7d217310-4c4a-43b7-ac75-60d9027d21fa\">\n",
              "    <div class=\"colab-df-container\">\n",
              "      <div>\n",
              "<style scoped>\n",
              "    .dataframe tbody tr th:only-of-type {\n",
              "        vertical-align: middle;\n",
              "    }\n",
              "\n",
              "    .dataframe tbody tr th {\n",
              "        vertical-align: top;\n",
              "    }\n",
              "\n",
              "    .dataframe thead th {\n",
              "        text-align: right;\n",
              "    }\n",
              "</style>\n",
              "<table border=\"1\" class=\"dataframe\">\n",
              "  <thead>\n",
              "    <tr style=\"text-align: right;\">\n",
              "      <th></th>\n",
              "      <th>Variável</th>\n",
              "      <th>VIF</th>\n",
              "      <th>Conclusão</th>\n",
              "    </tr>\n",
              "  </thead>\n",
              "  <tbody>\n",
              "    <tr>\n",
              "      <th>0</th>\n",
              "      <td>dummy_sexo_feminino</td>\n",
              "      <td>1.511457</td>\n",
              "      <td>Nível moderado de multicolinearidade</td>\n",
              "    </tr>\n",
              "    <tr>\n",
              "      <th>1</th>\n",
              "      <td>municipio_residencia</td>\n",
              "      <td>1.061240</td>\n",
              "      <td>Nível moderado de multicolinearidade</td>\n",
              "    </tr>\n",
              "    <tr>\n",
              "      <th>2</th>\n",
              "      <td>idade</td>\n",
              "      <td>1.037470</td>\n",
              "      <td>Nível moderado de multicolinearidade</td>\n",
              "    </tr>\n",
              "    <tr>\n",
              "      <th>3</th>\n",
              "      <td>cor_raca</td>\n",
              "      <td>1.396802</td>\n",
              "      <td>Nível moderado de multicolinearidade</td>\n",
              "    </tr>\n",
              "    <tr>\n",
              "      <th>4</th>\n",
              "      <td>escola_publica</td>\n",
              "      <td>2.437401</td>\n",
              "      <td>Nível moderado de multicolinearidade</td>\n",
              "    </tr>\n",
              "    <tr>\n",
              "      <th>5</th>\n",
              "      <td>nota_ciencia</td>\n",
              "      <td>5.939957</td>\n",
              "      <td>Alta multicolinearidade</td>\n",
              "    </tr>\n",
              "    <tr>\n",
              "      <th>6</th>\n",
              "      <td>escolaridade_pai</td>\n",
              "      <td>5.146558</td>\n",
              "      <td>Alta multicolinearidade</td>\n",
              "    </tr>\n",
              "    <tr>\n",
              "      <th>7</th>\n",
              "      <td>escolaridade_mae</td>\n",
              "      <td>2.237671</td>\n",
              "      <td>Nível moderado de multicolinearidade</td>\n",
              "    </tr>\n",
              "    <tr>\n",
              "      <th>8</th>\n",
              "      <td>tamanho_familia</td>\n",
              "      <td>3.026351</td>\n",
              "      <td>Nível moderado de multicolinearidade</td>\n",
              "    </tr>\n",
              "    <tr>\n",
              "      <th>9</th>\n",
              "      <td>internet</td>\n",
              "      <td>4.888540</td>\n",
              "      <td>Nível moderado de multicolinearidade</td>\n",
              "    </tr>\n",
              "    <tr>\n",
              "      <th>10</th>\n",
              "      <td>computador</td>\n",
              "      <td>2.537642</td>\n",
              "      <td>Nível moderado de multicolinearidade</td>\n",
              "    </tr>\n",
              "    <tr>\n",
              "      <th>11</th>\n",
              "      <td>renda_familiar</td>\n",
              "      <td>3.775495</td>\n",
              "      <td>Nível moderado de multicolinearidade</td>\n",
              "    </tr>\n",
              "  </tbody>\n",
              "</table>\n",
              "</div>\n",
              "      <button class=\"colab-df-convert\" onclick=\"convertToInteractive('df-7d217310-4c4a-43b7-ac75-60d9027d21fa')\"\n",
              "              title=\"Convert this dataframe to an interactive table.\"\n",
              "              style=\"display:none;\">\n",
              "        \n",
              "  <svg xmlns=\"http://www.w3.org/2000/svg\" height=\"24px\"viewBox=\"0 0 24 24\"\n",
              "       width=\"24px\">\n",
              "    <path d=\"M0 0h24v24H0V0z\" fill=\"none\"/>\n",
              "    <path d=\"M18.56 5.44l.94 2.06.94-2.06 2.06-.94-2.06-.94-.94-2.06-.94 2.06-2.06.94zm-11 1L8.5 8.5l.94-2.06 2.06-.94-2.06-.94L8.5 2.5l-.94 2.06-2.06.94zm10 10l.94 2.06.94-2.06 2.06-.94-2.06-.94-.94-2.06-.94 2.06-2.06.94z\"/><path d=\"M17.41 7.96l-1.37-1.37c-.4-.4-.92-.59-1.43-.59-.52 0-1.04.2-1.43.59L10.3 9.45l-7.72 7.72c-.78.78-.78 2.05 0 2.83L4 21.41c.39.39.9.59 1.41.59.51 0 1.02-.2 1.41-.59l7.78-7.78 2.81-2.81c.8-.78.8-2.07 0-2.86zM5.41 20L4 18.59l7.72-7.72 1.47 1.35L5.41 20z\"/>\n",
              "  </svg>\n",
              "      </button>\n",
              "      \n",
              "  <style>\n",
              "    .colab-df-container {\n",
              "      display:flex;\n",
              "      flex-wrap:wrap;\n",
              "      gap: 12px;\n",
              "    }\n",
              "\n",
              "    .colab-df-convert {\n",
              "      background-color: #E8F0FE;\n",
              "      border: none;\n",
              "      border-radius: 50%;\n",
              "      cursor: pointer;\n",
              "      display: none;\n",
              "      fill: #1967D2;\n",
              "      height: 32px;\n",
              "      padding: 0 0 0 0;\n",
              "      width: 32px;\n",
              "    }\n",
              "\n",
              "    .colab-df-convert:hover {\n",
              "      background-color: #E2EBFA;\n",
              "      box-shadow: 0px 1px 2px rgba(60, 64, 67, 0.3), 0px 1px 3px 1px rgba(60, 64, 67, 0.15);\n",
              "      fill: #174EA6;\n",
              "    }\n",
              "\n",
              "    [theme=dark] .colab-df-convert {\n",
              "      background-color: #3B4455;\n",
              "      fill: #D2E3FC;\n",
              "    }\n",
              "\n",
              "    [theme=dark] .colab-df-convert:hover {\n",
              "      background-color: #434B5C;\n",
              "      box-shadow: 0px 1px 3px 1px rgba(0, 0, 0, 0.15);\n",
              "      filter: drop-shadow(0px 1px 2px rgba(0, 0, 0, 0.3));\n",
              "      fill: #FFFFFF;\n",
              "    }\n",
              "  </style>\n",
              "\n",
              "      <script>\n",
              "        const buttonEl =\n",
              "          document.querySelector('#df-7d217310-4c4a-43b7-ac75-60d9027d21fa button.colab-df-convert');\n",
              "        buttonEl.style.display =\n",
              "          google.colab.kernel.accessAllowed ? 'block' : 'none';\n",
              "\n",
              "        async function convertToInteractive(key) {\n",
              "          const element = document.querySelector('#df-7d217310-4c4a-43b7-ac75-60d9027d21fa');\n",
              "          const dataTable =\n",
              "            await google.colab.kernel.invokeFunction('convertToInteractive',\n",
              "                                                     [key], {});\n",
              "          if (!dataTable) return;\n",
              "\n",
              "          const docLinkHtml = 'Like what you see? Visit the ' +\n",
              "            '<a target=\"_blank\" href=https://colab.research.google.com/notebooks/data_table.ipynb>data table notebook</a>'\n",
              "            + ' to learn more about interactive tables.';\n",
              "          element.innerHTML = '';\n",
              "          dataTable['output_type'] = 'display_data';\n",
              "          await google.colab.output.renderOutput(dataTable, element);\n",
              "          const docLink = document.createElement('div');\n",
              "          docLink.innerHTML = docLinkHtml;\n",
              "          element.appendChild(docLink);\n",
              "        }\n",
              "      </script>\n",
              "    </div>\n",
              "  </div>\n",
              "  "
            ]
          },
          "metadata": {},
          "execution_count": 20
        }
      ]
    },
    {
      "cell_type": "markdown",
      "source": [
        "##### Resumo das concluções sobre os resíduos e as features:\n",
        "\n",
        "A partir do teste Shapiro vericamos que **não há normalidade nos resíduos.**\n",
        "\n",
        "Para **'idade'** e **'tamanho_familia'** vemos um padrão de funil,\n",
        "o que caracterisa uma heterocedasticidade, ou seja, resíduos com\n",
        "**variância não constante**.\n",
        "\n",
        "Para **'municipio_residencia'** já não é possível verificar uma padronização tão forte.\n",
        "\n",
        "> Com isso, **violamos a suposição de homocedasticidade**, ou seja, a variância constante dos erros (resíduos) em todos os níveis das variáveis independentes. Se essa suposição não for atendida, as estimativas dos coeficientes de regressão podem ser ineficientes e enviesadas. **Isso significa que as estimativas dos coeficientes podem não ser tão precisas e confiáveis quanto se esperava.**\n",
        "\n",
        "É dificil a hipotese da normalidade dos resíduos se confirmar na prática, mas a Lei dos Grandes Números garante que em amostras grandes o suficiente a distribuição vai se assemelhar à normal. A falha dessa violação **não significa que o modelo deve ser descartado, apenas que os resultados são válidos assintoticamente, ou seja, em amostras grandes o suficiente** - como é o caso.\n",
        "\n",
        "Outro ponto importante é compreender que podemos estar lidando com **endogeneidade**, ou seja, há alguma variável que influencia a nossa target que pode não está presente no modelo.\n",
        "\n",
        "Por fim, verificamos também que as variáveis **'escolaridade_mae'** e **'escolaridade_pai'** possuem uma alta multicolinearidade (>5), podendo influenciar nos coeficientes e nas métrica do modelo."
      ],
      "metadata": {
        "id": "5HEsdoooVFEK"
      }
    },
    {
      "cell_type": "markdown",
      "source": [
        "Após as conclusões acima, seguimos com a aplicação do modelo nos dados de teste e validação das métricas escolhidas."
      ],
      "metadata": {
        "id": "JOXIuKFHPgB5"
      }
    },
    {
      "cell_type": "markdown",
      "source": [
        "####  Métricas para validação dos resultados da regressão:\n",
        "\n",
        "Para avaliar a eficiência do modelo, iremos utilizar as métricas abaixo:\n",
        "\n",
        "R², RMSE e MAE:\n",
        "\n",
        "- **R²**: proporção da variância da variável target explicada pelas features do modelo. Buscamos maximizar, ou seja, **quanto mais próximo de 1, melhor**.\n",
        "- **RMSE**: raiz da média da diferença quadrática entre os valores reais e os valores ajustados. Buscamos minimizar, **quanto mais próximo de 0, melhor**.\n",
        "- **MAE**: média das diferenças absolutas entre as previsões do modelo e os valores reais. Buscamos minimizar, **quanto mais próximo de 0, melhor**."
      ],
      "metadata": {
        "id": "9e7QlfvlX20n"
      }
    },
    {
      "cell_type": "code",
      "source": [
        "# define uma função para calcular o rmse\n",
        "def rmse(y_true, y_pred):\n",
        "    return round(np.sqrt(mean_squared_error(y_true, y_pred)), 4)"
      ],
      "metadata": {
        "id": "9BdDtciWSPo5"
      },
      "execution_count": null,
      "outputs": []
    },
    {
      "cell_type": "code",
      "source": [
        "# previsão com os dados de treino\n",
        "y_pred_train = pipeline.predict(X_train)\n",
        "# previsão com os dados de teste\n",
        "y_pred_test = pipeline.predict(X_test)\n",
        "\n",
        "y_pred_train, y_pred_test"
      ],
      "metadata": {
        "id": "KT5JxB1SSws-",
        "colab": {
          "base_uri": "https://localhost:8080/"
        },
        "outputId": "64e6ad53-d4ed-4406-e79c-4f58ab07dafc"
      },
      "execution_count": null,
      "outputs": [
        {
          "output_type": "execute_result",
          "data": {
            "text/plain": [
              "(array([6.13552211, 6.10969111, 6.25363395, ..., 6.37337078, 6.19768784,\n",
              "        5.99986386]),\n",
              " array([6.38654773, 6.16806874, 6.13896879, ..., 6.18367999, 6.28561992,\n",
              "        6.3091238 ]))"
            ]
          },
          "metadata": {},
          "execution_count": 22
        }
      ]
    },
    {
      "cell_type": "code",
      "source": [
        "# calculo o RMSE\n",
        "rmse_train = rmse(y_train, y_pred_train)\n",
        "rmse_test = rmse(y_test, y_pred_test)\n",
        "\n",
        "rmse_train, rmse_test"
      ],
      "metadata": {
        "colab": {
          "base_uri": "https://localhost:8080/"
        },
        "id": "CLtwWXwdS5TW",
        "outputId": "3f7bc9ec-1175-4e6b-c311-8b9d63884181"
      },
      "execution_count": null,
      "outputs": [
        {
          "output_type": "execute_result",
          "data": {
            "text/plain": [
              "(0.141, 0.1406)"
            ]
          },
          "metadata": {},
          "execution_count": 23
        }
      ]
    },
    {
      "cell_type": "code",
      "source": [
        "# métrica nos dados de treino e teste\n",
        "r_train = pipeline.score(X_train, y_train)\n",
        "r_test = pipeline.score(X_test, y_test)\n",
        "# modelo.score(X_train, y_train), modelo.score(X_test, y_test)\n",
        "\n",
        "r_train, r_test"
      ],
      "metadata": {
        "colab": {
          "base_uri": "https://localhost:8080/"
        },
        "id": "TAxknUFwS3BP",
        "outputId": "38c7f750-ae1e-40bd-8b54-b3e5de1f302c"
      },
      "execution_count": null,
      "outputs": [
        {
          "output_type": "execute_result",
          "data": {
            "text/plain": [
              "(0.4445279305248321, 0.4450600098336043)"
            ]
          },
          "metadata": {},
          "execution_count": 24
        }
      ]
    },
    {
      "cell_type": "code",
      "source": [
        "mae_train = mean_absolute_error(y_train, y_pred_train)\n",
        "mae_test = mean_absolute_error(y_test, y_pred_test)\n",
        "\n",
        "mae_train, mae_test"
      ],
      "metadata": {
        "colab": {
          "base_uri": "https://localhost:8080/"
        },
        "id": "SDBYgUGFIcFn",
        "outputId": "de3da372-11fa-4b3a-9f83-9e2a2e789cf9"
      },
      "execution_count": null,
      "outputs": [
        {
          "output_type": "execute_result",
          "data": {
            "text/plain": [
              "(0.11488286384222314, 0.11406652353355062)"
            ]
          },
          "metadata": {},
          "execution_count": 25
        }
      ]
    },
    {
      "cell_type": "code",
      "source": [
        "results_df = pd.DataFrame({'R2': [r_train, r_test], 'RMSE': [rmse_train, rmse_test], 'MAE': [mae_train, mae_test]}, index=['Treino', 'Teste'])\n",
        "results_df"
      ],
      "metadata": {
        "colab": {
          "base_uri": "https://localhost:8080/",
          "height": 112
        },
        "id": "YBfkFgReGC9E",
        "outputId": "37767023-ab45-43b9-af4d-a6bef05365c3"
      },
      "execution_count": null,
      "outputs": [
        {
          "output_type": "execute_result",
          "data": {
            "text/plain": [
              "              R2    RMSE       MAE\n",
              "Treino  0.444528  0.1410  0.114883\n",
              "Teste   0.445060  0.1406  0.114067"
            ],
            "text/html": [
              "\n",
              "  <div id=\"df-2941c2f8-b165-4dd4-814d-fe0fd22be623\">\n",
              "    <div class=\"colab-df-container\">\n",
              "      <div>\n",
              "<style scoped>\n",
              "    .dataframe tbody tr th:only-of-type {\n",
              "        vertical-align: middle;\n",
              "    }\n",
              "\n",
              "    .dataframe tbody tr th {\n",
              "        vertical-align: top;\n",
              "    }\n",
              "\n",
              "    .dataframe thead th {\n",
              "        text-align: right;\n",
              "    }\n",
              "</style>\n",
              "<table border=\"1\" class=\"dataframe\">\n",
              "  <thead>\n",
              "    <tr style=\"text-align: right;\">\n",
              "      <th></th>\n",
              "      <th>R2</th>\n",
              "      <th>RMSE</th>\n",
              "      <th>MAE</th>\n",
              "    </tr>\n",
              "  </thead>\n",
              "  <tbody>\n",
              "    <tr>\n",
              "      <th>Treino</th>\n",
              "      <td>0.444528</td>\n",
              "      <td>0.1410</td>\n",
              "      <td>0.114883</td>\n",
              "    </tr>\n",
              "    <tr>\n",
              "      <th>Teste</th>\n",
              "      <td>0.445060</td>\n",
              "      <td>0.1406</td>\n",
              "      <td>0.114067</td>\n",
              "    </tr>\n",
              "  </tbody>\n",
              "</table>\n",
              "</div>\n",
              "      <button class=\"colab-df-convert\" onclick=\"convertToInteractive('df-2941c2f8-b165-4dd4-814d-fe0fd22be623')\"\n",
              "              title=\"Convert this dataframe to an interactive table.\"\n",
              "              style=\"display:none;\">\n",
              "        \n",
              "  <svg xmlns=\"http://www.w3.org/2000/svg\" height=\"24px\"viewBox=\"0 0 24 24\"\n",
              "       width=\"24px\">\n",
              "    <path d=\"M0 0h24v24H0V0z\" fill=\"none\"/>\n",
              "    <path d=\"M18.56 5.44l.94 2.06.94-2.06 2.06-.94-2.06-.94-.94-2.06-.94 2.06-2.06.94zm-11 1L8.5 8.5l.94-2.06 2.06-.94-2.06-.94L8.5 2.5l-.94 2.06-2.06.94zm10 10l.94 2.06.94-2.06 2.06-.94-2.06-.94-.94-2.06-.94 2.06-2.06.94z\"/><path d=\"M17.41 7.96l-1.37-1.37c-.4-.4-.92-.59-1.43-.59-.52 0-1.04.2-1.43.59L10.3 9.45l-7.72 7.72c-.78.78-.78 2.05 0 2.83L4 21.41c.39.39.9.59 1.41.59.51 0 1.02-.2 1.41-.59l7.78-7.78 2.81-2.81c.8-.78.8-2.07 0-2.86zM5.41 20L4 18.59l7.72-7.72 1.47 1.35L5.41 20z\"/>\n",
              "  </svg>\n",
              "      </button>\n",
              "      \n",
              "  <style>\n",
              "    .colab-df-container {\n",
              "      display:flex;\n",
              "      flex-wrap:wrap;\n",
              "      gap: 12px;\n",
              "    }\n",
              "\n",
              "    .colab-df-convert {\n",
              "      background-color: #E8F0FE;\n",
              "      border: none;\n",
              "      border-radius: 50%;\n",
              "      cursor: pointer;\n",
              "      display: none;\n",
              "      fill: #1967D2;\n",
              "      height: 32px;\n",
              "      padding: 0 0 0 0;\n",
              "      width: 32px;\n",
              "    }\n",
              "\n",
              "    .colab-df-convert:hover {\n",
              "      background-color: #E2EBFA;\n",
              "      box-shadow: 0px 1px 2px rgba(60, 64, 67, 0.3), 0px 1px 3px 1px rgba(60, 64, 67, 0.15);\n",
              "      fill: #174EA6;\n",
              "    }\n",
              "\n",
              "    [theme=dark] .colab-df-convert {\n",
              "      background-color: #3B4455;\n",
              "      fill: #D2E3FC;\n",
              "    }\n",
              "\n",
              "    [theme=dark] .colab-df-convert:hover {\n",
              "      background-color: #434B5C;\n",
              "      box-shadow: 0px 1px 3px 1px rgba(0, 0, 0, 0.15);\n",
              "      filter: drop-shadow(0px 1px 2px rgba(0, 0, 0, 0.3));\n",
              "      fill: #FFFFFF;\n",
              "    }\n",
              "  </style>\n",
              "\n",
              "      <script>\n",
              "        const buttonEl =\n",
              "          document.querySelector('#df-2941c2f8-b165-4dd4-814d-fe0fd22be623 button.colab-df-convert');\n",
              "        buttonEl.style.display =\n",
              "          google.colab.kernel.accessAllowed ? 'block' : 'none';\n",
              "\n",
              "        async function convertToInteractive(key) {\n",
              "          const element = document.querySelector('#df-2941c2f8-b165-4dd4-814d-fe0fd22be623');\n",
              "          const dataTable =\n",
              "            await google.colab.kernel.invokeFunction('convertToInteractive',\n",
              "                                                     [key], {});\n",
              "          if (!dataTable) return;\n",
              "\n",
              "          const docLinkHtml = 'Like what you see? Visit the ' +\n",
              "            '<a target=\"_blank\" href=https://colab.research.google.com/notebooks/data_table.ipynb>data table notebook</a>'\n",
              "            + ' to learn more about interactive tables.';\n",
              "          element.innerHTML = '';\n",
              "          dataTable['output_type'] = 'display_data';\n",
              "          await google.colab.output.renderOutput(dataTable, element);\n",
              "          const docLink = document.createElement('div');\n",
              "          docLink.innerHTML = docLinkHtml;\n",
              "          element.appendChild(docLink);\n",
              "        }\n",
              "      </script>\n",
              "    </div>\n",
              "  </div>\n",
              "  "
            ]
          },
          "metadata": {},
          "execution_count": 26
        }
      ]
    },
    {
      "cell_type": "markdown",
      "source": [
        "#### Conclusões sobre o modelo:\n",
        "\n",
        "> Para o R² obtivemos para dados de treino e teste os valores de 0.444 e 0.445 respectivamente, **indicando que o modelo explica aproximadamente 44% da variabilidade dos dados em ambos os conjuntos**. Isso sugere que o modelo possui uma capacidade razoável de explicar a variabilidade dos dados e apresenta uma boa generalização para novos conjuntos de dados.\n",
        "\n",
        "> Para RMSE obtivemos para dados de treino e teste os valores de 0.1410 e 0.1406, respectivamente, **o que indica que o modelo está tendo facilidade em fazer boas previsões**, além de demonstrar que o modelo está generalizando bem e possui um desempenho semelhante em ambos os conjuntos.\n",
        "\n",
        "> Para o MAE obtivemos para dados de treino e teste os valores de 0.114 respectivamente, **o que indica que em média, as predições do modelo estão desviando aproximadamente 0.114 unidades em relação aos valores reais.**\n",
        "\n"
      ],
      "metadata": {
        "id": "gSSiw70pTebc"
      }
    },
    {
      "cell_type": "markdown",
      "source": [
        "Conforme pontuando anteriormente, as variáveis **'escolaridade_mae'** e **'escolaridade_pai'** possuem uma alta multicolinearidade.\n",
        "\n",
        "Dessa forma é necessário o tratamento desta questão para buscarmos melhores resultados no modelo. Iremos então fazer a **regularização dos coeficiente** com a regressão Lasso.\n",
        "\n",
        "Iremos utilizar o método de **validação cruzada para encontrar um alpha que melhor ajuste os coeficientes.**"
      ],
      "metadata": {
        "id": "MjM4Qo9_FlM2"
      }
    },
    {
      "cell_type": "markdown",
      "source": [
        "#### Regularização e validação cruzada:"
      ],
      "metadata": {
        "id": "pf1GyDVt0ODj"
      }
    },
    {
      "cell_type": "code",
      "source": [
        "# validação cruzadas\n",
        "def test_regularizacao(pipeline):\n",
        "\n",
        "    list_alpha = [0.0001, 0.001, 0.1, 1, 5, 10, 15, 20, 30, 45, 50, 60, 70, 80, 90]\n",
        "    result_df = pd.DataFrame(columns=['alpha', 'r2_train', 'r2_test', 'RMSE_train', 'RMSE_test'])\n",
        "\n",
        "    for alpha_number in list_alpha:\n",
        "        # definir o valor de alpha no modelo Lasso\n",
        "        pipeline.named_steps['model'].set_params(alpha=alpha_number)\n",
        "\n",
        "        # ajustar o pipeline aos dados de treinamento\n",
        "        pipeline.fit(X_train, y_train)\n",
        "\n",
        "        # prever os valores de treinamento e teste\n",
        "        y_pred_train = pipeline.predict(X_train)\n",
        "        y_pred_test = pipeline.predict(X_test)\n",
        "\n",
        "        # calcular R² e RMSE\n",
        "        r2_train = r2_score(y_train, y_pred_train)\n",
        "        r2_test = r2_score(y_test, y_pred_test)\n",
        "        RMSE_train = np.sqrt(mean_squared_error(y_train, y_pred_train))\n",
        "        RMSE_test = np.sqrt(mean_squared_error(y_test, y_pred_test))\n",
        "        mae_train = mean_absolute_error(y_train, y_pred_train)\n",
        "        mae_test = mean_absolute_error(y_test, y_pred_test)\n",
        "\n",
        "        # armazenar os resultados\n",
        "        result = pd.DataFrame({'alpha': [alpha_number],\n",
        "                               'r2_train': [r2_train],\n",
        "                               'r2_test': [r2_test],\n",
        "                               'RMSE_train': [RMSE_train],\n",
        "                               'RMSE_test': [RMSE_test],\n",
        "                               'MAE_train': [mae_train],\n",
        "                               'MAE_test': [mae_test]\n",
        "                              })\n",
        "        result_df = result_df.append(result)\n",
        "\n",
        "    result_df = result_df.round(4).reset_index(drop=True)\n",
        "    return result_df"
      ],
      "metadata": {
        "id": "lEdBxkV0hNDU"
      },
      "execution_count": null,
      "outputs": []
    },
    {
      "cell_type": "code",
      "source": [
        "# Ajuste da pipeline para regressão lasso:\n",
        "\n",
        "# aplicando CountEncoder na variável nominal:\n",
        "columns_to_encode = ['municipio_residencia']\n",
        "\n",
        "# aplicando RobustScaler nas variáveis numéricas:\n",
        "columns_to_scale_numeric = ['idade', 'tamanho_familia', 'nota_ciencia', 'renda_familiar']\n",
        "\n",
        "# criar o transformador para aplicar as transformações\n",
        "transformer = ColumnTransformer(\n",
        "    transformers=[\n",
        "        ('count_encoder', CountEncoder(), columns_to_encode),\n",
        "        ('robust_scaler', RobustScaler(), columns_to_scale_numeric)\n",
        "    ],\n",
        "    remainder='passthrough'\n",
        ")\n",
        "\n",
        "# criando o pipeline com o transformador e o modelo\n",
        "pipeline = Pipeline([\n",
        "    ('transformer', transformer),\n",
        "    ('model', Lasso())\n",
        "])"
      ],
      "metadata": {
        "id": "APAtMPONkRZK"
      },
      "execution_count": null,
      "outputs": []
    },
    {
      "cell_type": "code",
      "source": [
        "result_df = test_regularizacao(pipeline)\n",
        "result_df"
      ],
      "metadata": {
        "colab": {
          "base_uri": "https://localhost:8080/",
          "height": 520
        },
        "id": "cyaKciE8kMOs",
        "outputId": "d88e9114-39cd-4ae7-e579-8da6a9063f92"
      },
      "execution_count": null,
      "outputs": [
        {
          "output_type": "execute_result",
          "data": {
            "text/plain": [
              "      alpha  r2_train  r2_test  RMSE_train  RMSE_test  MAE_train  MAE_test\n",
              "0    0.0001    0.4445   0.4451      0.1410     0.1406     0.1149    0.1141\n",
              "1    0.0010    0.4439   0.4447      0.1411     0.1406     0.1151    0.1143\n",
              "2    0.1000    0.0835   0.0820      0.1811     0.1808     0.1505    0.1504\n",
              "3    1.0000    0.0171   0.0148      0.1876     0.1873     0.1553    0.1554\n",
              "4    5.0000    0.0170   0.0149      0.1876     0.1873     0.1553    0.1554\n",
              "5   10.0000    0.0169   0.0149      0.1876     0.1873     0.1553    0.1554\n",
              "6   15.0000    0.0167   0.0148      0.1876     0.1873     0.1554    0.1554\n",
              "7   20.0000    0.0165   0.0147      0.1876     0.1873     0.1554    0.1554\n",
              "8   30.0000    0.0157   0.0141      0.1877     0.1873     0.1555    0.1555\n",
              "9   45.0000    0.0140   0.0128      0.1879     0.1875     0.1556    0.1556\n",
              "10  50.0000    0.0133   0.0122      0.1879     0.1875     0.1557    0.1557\n",
              "11  60.0000    0.0117   0.0107      0.1881     0.1877     0.1558    0.1558\n",
              "12  70.0000    0.0097   0.0090      0.1883     0.1878     0.1559    0.1559\n",
              "13  80.0000    0.0074   0.0069      0.1885     0.1880     0.1561    0.1561\n",
              "14  90.0000    0.0049   0.0045      0.1887     0.1883     0.1563    0.1563"
            ],
            "text/html": [
              "\n",
              "  <div id=\"df-90e416b8-d4e1-4fcd-8333-3633d7c1b7dd\">\n",
              "    <div class=\"colab-df-container\">\n",
              "      <div>\n",
              "<style scoped>\n",
              "    .dataframe tbody tr th:only-of-type {\n",
              "        vertical-align: middle;\n",
              "    }\n",
              "\n",
              "    .dataframe tbody tr th {\n",
              "        vertical-align: top;\n",
              "    }\n",
              "\n",
              "    .dataframe thead th {\n",
              "        text-align: right;\n",
              "    }\n",
              "</style>\n",
              "<table border=\"1\" class=\"dataframe\">\n",
              "  <thead>\n",
              "    <tr style=\"text-align: right;\">\n",
              "      <th></th>\n",
              "      <th>alpha</th>\n",
              "      <th>r2_train</th>\n",
              "      <th>r2_test</th>\n",
              "      <th>RMSE_train</th>\n",
              "      <th>RMSE_test</th>\n",
              "      <th>MAE_train</th>\n",
              "      <th>MAE_test</th>\n",
              "    </tr>\n",
              "  </thead>\n",
              "  <tbody>\n",
              "    <tr>\n",
              "      <th>0</th>\n",
              "      <td>0.0001</td>\n",
              "      <td>0.4445</td>\n",
              "      <td>0.4451</td>\n",
              "      <td>0.1410</td>\n",
              "      <td>0.1406</td>\n",
              "      <td>0.1149</td>\n",
              "      <td>0.1141</td>\n",
              "    </tr>\n",
              "    <tr>\n",
              "      <th>1</th>\n",
              "      <td>0.0010</td>\n",
              "      <td>0.4439</td>\n",
              "      <td>0.4447</td>\n",
              "      <td>0.1411</td>\n",
              "      <td>0.1406</td>\n",
              "      <td>0.1151</td>\n",
              "      <td>0.1143</td>\n",
              "    </tr>\n",
              "    <tr>\n",
              "      <th>2</th>\n",
              "      <td>0.1000</td>\n",
              "      <td>0.0835</td>\n",
              "      <td>0.0820</td>\n",
              "      <td>0.1811</td>\n",
              "      <td>0.1808</td>\n",
              "      <td>0.1505</td>\n",
              "      <td>0.1504</td>\n",
              "    </tr>\n",
              "    <tr>\n",
              "      <th>3</th>\n",
              "      <td>1.0000</td>\n",
              "      <td>0.0171</td>\n",
              "      <td>0.0148</td>\n",
              "      <td>0.1876</td>\n",
              "      <td>0.1873</td>\n",
              "      <td>0.1553</td>\n",
              "      <td>0.1554</td>\n",
              "    </tr>\n",
              "    <tr>\n",
              "      <th>4</th>\n",
              "      <td>5.0000</td>\n",
              "      <td>0.0170</td>\n",
              "      <td>0.0149</td>\n",
              "      <td>0.1876</td>\n",
              "      <td>0.1873</td>\n",
              "      <td>0.1553</td>\n",
              "      <td>0.1554</td>\n",
              "    </tr>\n",
              "    <tr>\n",
              "      <th>5</th>\n",
              "      <td>10.0000</td>\n",
              "      <td>0.0169</td>\n",
              "      <td>0.0149</td>\n",
              "      <td>0.1876</td>\n",
              "      <td>0.1873</td>\n",
              "      <td>0.1553</td>\n",
              "      <td>0.1554</td>\n",
              "    </tr>\n",
              "    <tr>\n",
              "      <th>6</th>\n",
              "      <td>15.0000</td>\n",
              "      <td>0.0167</td>\n",
              "      <td>0.0148</td>\n",
              "      <td>0.1876</td>\n",
              "      <td>0.1873</td>\n",
              "      <td>0.1554</td>\n",
              "      <td>0.1554</td>\n",
              "    </tr>\n",
              "    <tr>\n",
              "      <th>7</th>\n",
              "      <td>20.0000</td>\n",
              "      <td>0.0165</td>\n",
              "      <td>0.0147</td>\n",
              "      <td>0.1876</td>\n",
              "      <td>0.1873</td>\n",
              "      <td>0.1554</td>\n",
              "      <td>0.1554</td>\n",
              "    </tr>\n",
              "    <tr>\n",
              "      <th>8</th>\n",
              "      <td>30.0000</td>\n",
              "      <td>0.0157</td>\n",
              "      <td>0.0141</td>\n",
              "      <td>0.1877</td>\n",
              "      <td>0.1873</td>\n",
              "      <td>0.1555</td>\n",
              "      <td>0.1555</td>\n",
              "    </tr>\n",
              "    <tr>\n",
              "      <th>9</th>\n",
              "      <td>45.0000</td>\n",
              "      <td>0.0140</td>\n",
              "      <td>0.0128</td>\n",
              "      <td>0.1879</td>\n",
              "      <td>0.1875</td>\n",
              "      <td>0.1556</td>\n",
              "      <td>0.1556</td>\n",
              "    </tr>\n",
              "    <tr>\n",
              "      <th>10</th>\n",
              "      <td>50.0000</td>\n",
              "      <td>0.0133</td>\n",
              "      <td>0.0122</td>\n",
              "      <td>0.1879</td>\n",
              "      <td>0.1875</td>\n",
              "      <td>0.1557</td>\n",
              "      <td>0.1557</td>\n",
              "    </tr>\n",
              "    <tr>\n",
              "      <th>11</th>\n",
              "      <td>60.0000</td>\n",
              "      <td>0.0117</td>\n",
              "      <td>0.0107</td>\n",
              "      <td>0.1881</td>\n",
              "      <td>0.1877</td>\n",
              "      <td>0.1558</td>\n",
              "      <td>0.1558</td>\n",
              "    </tr>\n",
              "    <tr>\n",
              "      <th>12</th>\n",
              "      <td>70.0000</td>\n",
              "      <td>0.0097</td>\n",
              "      <td>0.0090</td>\n",
              "      <td>0.1883</td>\n",
              "      <td>0.1878</td>\n",
              "      <td>0.1559</td>\n",
              "      <td>0.1559</td>\n",
              "    </tr>\n",
              "    <tr>\n",
              "      <th>13</th>\n",
              "      <td>80.0000</td>\n",
              "      <td>0.0074</td>\n",
              "      <td>0.0069</td>\n",
              "      <td>0.1885</td>\n",
              "      <td>0.1880</td>\n",
              "      <td>0.1561</td>\n",
              "      <td>0.1561</td>\n",
              "    </tr>\n",
              "    <tr>\n",
              "      <th>14</th>\n",
              "      <td>90.0000</td>\n",
              "      <td>0.0049</td>\n",
              "      <td>0.0045</td>\n",
              "      <td>0.1887</td>\n",
              "      <td>0.1883</td>\n",
              "      <td>0.1563</td>\n",
              "      <td>0.1563</td>\n",
              "    </tr>\n",
              "  </tbody>\n",
              "</table>\n",
              "</div>\n",
              "      <button class=\"colab-df-convert\" onclick=\"convertToInteractive('df-90e416b8-d4e1-4fcd-8333-3633d7c1b7dd')\"\n",
              "              title=\"Convert this dataframe to an interactive table.\"\n",
              "              style=\"display:none;\">\n",
              "        \n",
              "  <svg xmlns=\"http://www.w3.org/2000/svg\" height=\"24px\"viewBox=\"0 0 24 24\"\n",
              "       width=\"24px\">\n",
              "    <path d=\"M0 0h24v24H0V0z\" fill=\"none\"/>\n",
              "    <path d=\"M18.56 5.44l.94 2.06.94-2.06 2.06-.94-2.06-.94-.94-2.06-.94 2.06-2.06.94zm-11 1L8.5 8.5l.94-2.06 2.06-.94-2.06-.94L8.5 2.5l-.94 2.06-2.06.94zm10 10l.94 2.06.94-2.06 2.06-.94-2.06-.94-.94-2.06-.94 2.06-2.06.94z\"/><path d=\"M17.41 7.96l-1.37-1.37c-.4-.4-.92-.59-1.43-.59-.52 0-1.04.2-1.43.59L10.3 9.45l-7.72 7.72c-.78.78-.78 2.05 0 2.83L4 21.41c.39.39.9.59 1.41.59.51 0 1.02-.2 1.41-.59l7.78-7.78 2.81-2.81c.8-.78.8-2.07 0-2.86zM5.41 20L4 18.59l7.72-7.72 1.47 1.35L5.41 20z\"/>\n",
              "  </svg>\n",
              "      </button>\n",
              "      \n",
              "  <style>\n",
              "    .colab-df-container {\n",
              "      display:flex;\n",
              "      flex-wrap:wrap;\n",
              "      gap: 12px;\n",
              "    }\n",
              "\n",
              "    .colab-df-convert {\n",
              "      background-color: #E8F0FE;\n",
              "      border: none;\n",
              "      border-radius: 50%;\n",
              "      cursor: pointer;\n",
              "      display: none;\n",
              "      fill: #1967D2;\n",
              "      height: 32px;\n",
              "      padding: 0 0 0 0;\n",
              "      width: 32px;\n",
              "    }\n",
              "\n",
              "    .colab-df-convert:hover {\n",
              "      background-color: #E2EBFA;\n",
              "      box-shadow: 0px 1px 2px rgba(60, 64, 67, 0.3), 0px 1px 3px 1px rgba(60, 64, 67, 0.15);\n",
              "      fill: #174EA6;\n",
              "    }\n",
              "\n",
              "    [theme=dark] .colab-df-convert {\n",
              "      background-color: #3B4455;\n",
              "      fill: #D2E3FC;\n",
              "    }\n",
              "\n",
              "    [theme=dark] .colab-df-convert:hover {\n",
              "      background-color: #434B5C;\n",
              "      box-shadow: 0px 1px 3px 1px rgba(0, 0, 0, 0.15);\n",
              "      filter: drop-shadow(0px 1px 2px rgba(0, 0, 0, 0.3));\n",
              "      fill: #FFFFFF;\n",
              "    }\n",
              "  </style>\n",
              "\n",
              "      <script>\n",
              "        const buttonEl =\n",
              "          document.querySelector('#df-90e416b8-d4e1-4fcd-8333-3633d7c1b7dd button.colab-df-convert');\n",
              "        buttonEl.style.display =\n",
              "          google.colab.kernel.accessAllowed ? 'block' : 'none';\n",
              "\n",
              "        async function convertToInteractive(key) {\n",
              "          const element = document.querySelector('#df-90e416b8-d4e1-4fcd-8333-3633d7c1b7dd');\n",
              "          const dataTable =\n",
              "            await google.colab.kernel.invokeFunction('convertToInteractive',\n",
              "                                                     [key], {});\n",
              "          if (!dataTable) return;\n",
              "\n",
              "          const docLinkHtml = 'Like what you see? Visit the ' +\n",
              "            '<a target=\"_blank\" href=https://colab.research.google.com/notebooks/data_table.ipynb>data table notebook</a>'\n",
              "            + ' to learn more about interactive tables.';\n",
              "          element.innerHTML = '';\n",
              "          dataTable['output_type'] = 'display_data';\n",
              "          await google.colab.output.renderOutput(dataTable, element);\n",
              "          const docLink = document.createElement('div');\n",
              "          docLink.innerHTML = docLinkHtml;\n",
              "          element.appendChild(docLink);\n",
              "        }\n",
              "      </script>\n",
              "    </div>\n",
              "  </div>\n",
              "  "
            ]
          },
          "metadata": {},
          "execution_count": 29
        }
      ]
    },
    {
      "cell_type": "code",
      "source": [
        "sns.set(style='whitegrid')\n",
        "\n",
        "fig, ax = plt.subplots(figsize=(12, 4))\n",
        "\n",
        "sns.lineplot(data=result_df, x='alpha', y='r2_train', ax=ax, label='R² - Treino')\n",
        "sns.lineplot(data=result_df, x='alpha', y='r2_test', ax=ax, label='R² - Teste')\n",
        "\n",
        "ax.set_title('Regressão Lasso')\n",
        "ax.set_xlabel('alpha')\n",
        "ax.set_ylabel('R²')\n",
        "\n",
        "plt.show()"
      ],
      "metadata": {
        "colab": {
          "base_uri": "https://localhost:8080/",
          "height": 419
        },
        "id": "VuNcshQjalJz",
        "outputId": "0814acbb-434f-4071-996a-ed99fd176f02"
      },
      "execution_count": null,
      "outputs": [
        {
          "output_type": "display_data",
          "data": {
            "text/plain": [
              "<Figure size 1200x400 with 1 Axes>"
            ],
            "image/png": "[encoded data removed]"
          },
          "metadata": {}
        }
      ]
    },
    {
      "cell_type": "markdown",
      "source": [
        "É importante compreender que quanto maior o alfa menores serão os R².\n",
        "Isso caracteriza uma queda na performance do modelo (underfitting), como pode ser visto no gráfico acima.\n",
        "\n",
        "> Ou seja, é necessário encontrar valor de alfa para equilibrar o modelo e torná-lo mais eficiente, encontrando o alpha que traga **o maior R² com os menores MAE e RMSE possíveis.** Conforme tabela, o alpha seria 0.0001.\n",
        "\n",
        "Contudo, os valores de RMSE, MAE e R² da regressão Lasso com o alpha de 0.0001 são muito próximos ou iguais aos valores da regressão linear padrão realizada anteriormente.\n",
        "\n",
        "Modelo|R² teste|R² treino|RMSE teste|RMSE treino|MAE treino|MAE teste|\n",
        "------|------|------|---------------|---------------|--------------|--------------|\n",
        "Regressão Linear|0.4451|0.1406|0.4445|0.1410|0.1148|0.1140\n",
        "Regressão Lasso|0.4451|0.1406|0.4445|0.1410 |0.1149|0.1141\n",
        "\n",
        "> Ou seja, a aplicação da regressão Lasso com um valor de alpha de 0.0001 não resultou em uma melhora significativa em relação à regressão linear padrão. Isso significa que a regularização não trouxe benefícios perceptíveis na redução do erro (RMSE e MAE) ou no ajuste do modelo (R²).\n",
        "\n",
        "> Nesse caso. a **regressão linear sem regularização parece ser suficiente para descrever os dados de forma adequada.**"
      ],
      "metadata": {
        "id": "TD8X60v2ZC2n"
      }
    }
  ]
}